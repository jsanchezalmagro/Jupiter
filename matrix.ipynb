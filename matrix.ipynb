{
 "cells": [
  {
   "cell_type": "code",
   "execution_count": 36,
   "metadata": {},
   "outputs": [
    {
     "name": "stdout",
     "output_type": "stream",
     "text": [
      "[[0, 1, 0, 1, 1, 0, 0, 1], [1, 1, 1, 0, 0, 1, 0, 0], [1, 0, 0, 1, 1, 0, 1, 0]]\n",
      "[[0 0 1]\n",
      " [1 0 0]\n",
      " [0 1 0]]\n",
      "8\n",
      "[[0. 1. 0.]\n",
      " [0. 0. 1.]\n",
      " [1. 0. 0.]]\n"
     ]
    }
   ],
   "source": [
    "import numpy as np\n",
    "import json as js\n",
    "from json import JSONEncoder\n",
    "\n",
    "# class NumpyArrayEncoder(JSONEncoder):\n",
    "#     def default(self, obj):\n",
    "#         if isinstance(obj, np.ndarray):\n",
    "#             return obj.tolist()\n",
    "#         return JSONEncoder.default(self, obj)\n",
    "    \n",
    "# a = np.array([[0, 1, 7], [-1 ,0, 7]])\n",
    "\n",
    "\n",
    "# numpyData = {\"array\": a}\n",
    "\n",
    "# with open(\"numpyData.json\", \"w\") as write_file:\n",
    "#     js.dump(numpyData, write_file, cls=NumpyArrayEncoder)\n",
    "\n",
    "\n",
    "with open(\"numpyData1.json\", \"r\") as read_file:\n",
    "    decodedArray = js.load(read_file)\n",
    "    print(decodedArray[\"array\"])\n",
    "    A = np.asarray(decodedArray[\"array\"])\n",
    "\n",
    "row, column = A.shape\n",
    "\n",
    "S = A[0:row, column-row:column, ]\n",
    "print(S)\n",
    "\n",
    "B = np.linalg.inv(S)\n",
    "print(B)\n",
    "\n"
   ]
  }
 ],
 "metadata": {
  "kernelspec": {
   "display_name": "base",
   "language": "python",
   "name": "python3"
  },
  "language_info": {
   "codemirror_mode": {
    "name": "ipython",
    "version": 3
   },
   "file_extension": ".py",
   "mimetype": "text/x-python",
   "name": "python",
   "nbconvert_exporter": "python",
   "pygments_lexer": "ipython3",
   "version": "3.9.12"
  },
  "orig_nbformat": 4
 },
 "nbformat": 4,
 "nbformat_minor": 2
}
