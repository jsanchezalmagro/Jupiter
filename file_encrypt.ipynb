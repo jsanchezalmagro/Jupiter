{
 "cells": [
  {
   "cell_type": "code",
   "execution_count": 2,
   "metadata": {},
   "outputs": [
    {
     "name": "stdout",
     "output_type": "stream",
     "text": [
      "{\n",
      "    \"id\": \"04\",\n",
      "    \"name\": \"sunil\",\n",
      "    \"department\": \"HR\"\n",
      "}\n"
     ]
    }
   ],
   "source": [
    "\n",
    "import json \n",
    "      \n",
    "# Data to be written \n",
    "dictionary ={ \n",
    "  \"id\": \"04\", \n",
    "  \"name\": \"sunil\", \n",
    "  \"department\": \"HR\"\n",
    "} \n",
    "      \n",
    "# Serializing json  \n",
    "json_object = json.dumps(dictionary, indent = 4) \n",
    "print(json_object)"
   ]
  },
  {
   "cell_type": "code",
   "execution_count": 8,
   "metadata": {},
   "outputs": [
    {
     "name": "stdout",
     "output_type": "stream",
     "text": [
      "{\n",
      "    \"id\": \"04\",\n",
      "    \"name\": \"sunil\",\n",
      "    \"department\": \"HR\"\n",
      "}\n"
     ]
    }
   ],
   "source": [
    "from cryptography.fernet import Fernet\n",
    "\n",
    "key1 =b'0123456789012345678901234567890123456789012='\n",
    "key =b'aaaaaaaaaassssssssssddddddddddffffffffff000='\n",
    "\n",
    "def save_encrypt (key, msg, filename):\n",
    "    \"\"\"Encrypt string and save to file \n",
    "\n",
    "    Args:\n",
    "        key (bytearray): key with 44 data\n",
    "        msg (string): msg  to encriptar\n",
    "        filename (string): file name \n",
    "    \"\"\"\n",
    "    # create class encrypt\n",
    "    code = Fernet(key)\n",
    "    # change \n",
    "    msg = code.encrypt(bytes(msg, 'utf-8'))\n",
    "    # write to file\n",
    "    with open(filename, \"wb\") as file:\n",
    "        # Write bytes to file\n",
    "        file.write(msg)\n",
    "    \n",
    "\n",
    "def load_encrypt(key, filename):\n",
    "    \"\"\"Read form file and dencrypt and convert to string\n",
    "\n",
    "    Args:\n",
    "        key (bytearray): _key with 44 data\n",
    "        filename (string): file name \n",
    "    \"\"\"\n",
    "     # create class encrypt\n",
    "    code = Fernet(key)\n",
    "    # read from file\n",
    "    with open(\"my_file.txt\", \"rb\") as file:\n",
    "        # Write bytes to file\n",
    "        msg = file.read()\n",
    "        msg= code.decrypt(msg)\n",
    "        return msg.decode(\"utf-8\")\n",
    "\n",
    "save_encrypt(key, json_object, \"my_file.txt\")\n",
    "print(load_encrypt(key, \"my_file.txt\"))"
   ]
  },
  {
   "cell_type": "code",
   "execution_count": 25,
   "metadata": {},
   "outputs": [
    {
     "name": "stdout",
     "output_type": "stream",
     "text": [
      "AES encryption key: b'a53c13506790d1145aa65db1810ee7b58c6cb1b8ce016e2630cf23321a1c58b2'\n",
      "AES encryption iv: 107334912226231899161627173480884307705732858487616851953501996033790320190971\n",
      "Encrypted: b'94ca7936c2cf801b633869e5279324433b90787fd1f34dadef822571795d40ae08af424a5b863adc34f16ae88816c40cb0da5e0bef7756ded7dc4ae0b6f8e396a38871450d36bf5a0866669065a7c3f6ffaae2486eb2033277efc3990cf5653602dcfbab0f41cd6d3a276acbe9b1f7d8b4dc87dcef4c9cb0bb537f43160f493e3b960575ab6a529b22a233f8945937d9cef832fb6bc9c64385cbdd387c0c5da0179288ca66c8033ef5368014cbe38c27b51e0ef2d2e88eb2d1ebd477b3128a23199b841d2f49d4f9ca5b22ee203da22f919f7ce05c6b17095a7f86c1ec650558ac36f1aa1cb4e86b133300f2948689d3830ffdf148f2f4ba337c15ba470d365378cebfd24b9194d41f36119a00d9867ece9c69847afffb10bdfe2e8657cff78565b7804b147315c34bb6195aa00dabd097cef127d990e14db7867745eb9eac32699f50a7735c1e26ab6572de1456'\n",
      "Encrypted: b'41d155669cf0120dc21fc1b529cda06489103e12ca833b46cde96a022b255529318297eb5590c53050b2f695760aa6921d353b8870b68aed42f9a08b17ad06b4f39be3c6c06dcfdfc5c1aa16ad557b06c9b7438bc495b4433c64a4667b6e16c625c6ada6e2472f3e7653405d4451ab452a005686604034302448ec9726c3cfcb4a9f461ceea7bd4b8d45fc2e64cc348e507edcb57a89cca2f1d94682211aef3dc342f1ffdba74992f861d49fa87091d49dd24be1721a7c0ae434f3217fb03fbd0a6055c70aa6747177db1ce27333636bca525b9613ff216de72cadb6acd7a8d1774dff552f5c7acfaeac6072c17fad16c79d44011a3ef24abd0876501ec49a92872bffddfed74d209c0bc0d9835a97a60b53c43ecbe92dd6a272f5b4a8f0a0b99b3886e4c0e3622e7a9884e1d48c816e0e51470c61d4ecfc7deccf546956dff98c5f718d9b2b031c7fedd98f5a7a'\n"
     ]
    }
   ],
   "source": [
    "import pyaes, pbkdf2, binascii, os, secrets\n",
    "\n",
    "# Derive a 256-bit AES encryption key from the password\n",
    "password = \"H3ls1nk1\"\n",
    "passwordSalt = os.urandom(16)\n",
    "key = pbkdf2.PBKDF2(password, passwordSalt).read(32)\n",
    "print('AES encryption key:', binascii.hexlify(key))\n",
    "\n",
    "iv = secrets.randbits(256)\n",
    "print('AES encryption iv:', iv)\n",
    "\n",
    "plaintext = \"\"\"{   \"Base1\": {\n",
    "    \"NR\": 45,\n",
    "    \"Size\": [4,4],\n",
    "    \"Puncturing\": [1,1,1,0],\n",
    "    \"Matrix\": [\n",
    "                [0, 1, 0], \n",
    "                [0, 2, 11],\n",
    "                [1, 0, 22], \n",
    "                [1, 1, 14],\n",
    "                [2, 1, 0], \n",
    "                [2, 3, 27],\n",
    "                [3, 1, 45], \n",
    "                [3, 2, 0]\n",
    "        ]\n",
    "    }\n",
    "}\"\"\"\n",
    "\n",
    "#aes = pyaes.AESModeOfOperationCTR(key, pyaes.Counter(iv))\n",
    "aes = pyaes.AESModeOfOperationCTR(key)\n",
    "ciphertext = aes.encrypt(plaintext)\n",
    "print('Encrypted:', binascii.hexlify(ciphertext))\n",
    "text = aes.encrypt(ciphertext)\n",
    "\n",
    "print('Encrypted:', binascii.hexlify(secretKey))"
   ]
  },
  {
   "cell_type": "code",
   "execution_count": 52,
   "metadata": {},
   "outputs": [
    {
     "name": "stdout",
     "output_type": "stream",
     "text": [
      "Encryption key: b'e43ad8e5e7f41c2bbcca9164dacae683ec760eaebe9ef416d4bd640b8889a0cf'\n",
      "(b'\\xc6\\xf4B\\xc0k\\x9d\\xcd\\x03\\x14b*\\xa2U^C.\\x04)\\x81S-\\x1a\\x99\\xe7\\x87\\x17\\xf3]\\xb8\\xc8\\xe3\\xd1\\xb7\\x1d\\x1fQ\\xbeM<\\x97e6\\xfb', b'pF\\xa4o\\xd2\\x8f@d\\x8b/\\xb2z\\t\\x80\\xf6\\xe9', b'\\x8dOu\\xd4\\xb5X(2\\x83\\x95\\xcfj\\x12w\\x17\\x8c')\n",
      "decryptedMsg b'Message for AES-256-GCM + Scrypt encryption'\n"
     ]
    }
   ],
   "source": [
    "from Crypto.Cipher import AES\n",
    "import binascii, os\n",
    "\n",
    "\n",
    "def encrypt_AES_GCM(msg, secretKey):\n",
    "    aesCipher = AES.new(secretKey, AES.MODE_GCM)\n",
    "    ciphertext, authTag = aesCipher.encrypt_and_digest(msg)\n",
    "    return (ciphertext, aesCipher.nonce, authTag)\n",
    "\n",
    "def decrypt_AES_GCM(encryptedMsg, secretKey):\n",
    "    (ciphertext, nonce, authTag) = encryptedMsg\n",
    "    aesCipher = AES.new(secretKey, AES.MODE_GCM, nonce)\n",
    "    plaintext = aesCipher.decrypt_and_verify(ciphertext, authTag)\n",
    "    return plaintext\n",
    "\n",
    "secretKey = os.urandom(32)  # 256-bit random encryption key\n",
    "print(\"Encryption key:\", binascii.hexlify(secretKey))\n",
    "\n",
    "msg = b'Message for AES-256-GCM + Scrypt encryption'\n",
    "encryptedMsg = encrypt_AES_GCM(msg, secretKey)\n",
    "data = {'ciphertext': binascii.hexlify(encryptedMsg[0]),\n",
    "        'aesIV': binascii.hexlify(encryptedMsg[1]),\n",
    "        'authTag': binascii.hexlify(encryptedMsg[2])}\n",
    "\n",
    "print(encryptedMsg)\n",
    "decryptedMsg = decrypt_AES_GCM(encryptedMsg, secretKey)\n",
    "print(\"decryptedMsg\", decryptedMsg)"
   ]
  },
  {
   "cell_type": "code",
   "execution_count": 8,
   "metadata": {},
   "outputs": [
    {
     "name": "stdout",
     "output_type": "stream",
     "text": [
      "{\"id\": \"04\", \"name\": \"sunil\", \"department\": \"HR\"}\n",
      "{'id': '04', 'name': 'sunil', 'department': 'HR'}\n"
     ]
    }
   ],
   "source": [
    "import os\n",
    "import json\n",
    "import hashlib\n",
    "from cryptography.hazmat.primitives.ciphers import Cipher, algorithms, modes\n",
    "from cryptography.hazmat.backends import default_backend\n",
    "\n",
    "\n",
    "class FileAesDicCipher:\n",
    "\n",
    "    _BLOCK_SIZE = 16\n",
    "\n",
    "    def __init__(self, key):\n",
    "        self._key = hashlib.sha256(key.encode()).digest()\n",
    "\n",
    "    def _pad(self, s:str) -> str:\n",
    "        padding = (self._BLOCK_SIZE - (len(s) % self._BLOCK_SIZE))\n",
    "        return s + padding * chr(padding)\n",
    "\n",
    "    def _unpad(self, s:str) -> str:\n",
    "        return s[:-ord(s[len(s)-1:])]\n",
    "\n",
    "    def encrypt_str(self, raw:str) -> bytes:\n",
    "        iv = os.urandom(self._BLOCK_SIZE)\n",
    "        cipher = Cipher(algorithms.AES(self._key), modes.CBC(iv), default_backend())\n",
    "        encryptor = cipher.encryptor()\n",
    "        raw = self._pad(raw)\n",
    "        return iv + encryptor.update(raw.encode('utf-8')) + encryptor.finalize()\n",
    "\n",
    "    def decrypt_str(self, enc:bytes) -> str:\n",
    "        iv = enc[:self._BLOCK_SIZE]\n",
    "        enc = enc[self._BLOCK_SIZE:]\n",
    "        cipher = Cipher(algorithms.AES(self._key), modes.CBC(iv), default_backend())\n",
    "        decryptor = cipher.decryptor()\n",
    "        raw = decryptor.update(enc) + decryptor.finalize()\n",
    "        raw = raw.decode('utf-8')\n",
    "        return self._unpad(raw)\n",
    "    \n",
    "    def save_dict_encrypt(self, filename, data_dict, key):\n",
    "        self._key = hashlib.sha256(key.encode()).digest()\n",
    "        msg_json = json.dumps(data_dict) \n",
    "        print(msg_json)\n",
    "        msg_enc = self.encrypt_str(msg_json)\n",
    "        with open(filename, \"wb\") as file:\n",
    "            file.write(msg_enc) \n",
    "\n",
    "    def load_dict_encrypt(self, filename, key):\n",
    "        self._key = hashlib.sha256(key.encode()).digest()\n",
    "        with open(filename, \"rb\") as file:\n",
    "            msg_enc = file.read()\n",
    "        msg_json = cipher.decrypt_str(msg_enc)\n",
    "        msg_dict = json.loads(msg_json)\n",
    "        return msg_dict\n",
    "\n",
    "    def load_json_encrypt(self, filename, key):\n",
    "        self._key = hashlib.sha256(key.encode()).digest()\n",
    "        with open(filename, \"rb\") as file:\n",
    "            msg_enc = file.read()\n",
    "        msg_json = cipher.decrypt_str(msg_enc)\n",
    "        return msg_json\n",
    "\n",
    "if __name__ == '__main__':\n",
    "\n",
    "    cipher = AesDicCipher('my secret password')\n",
    "    \n",
    "    # Data to be written \n",
    "    dictionary ={ \n",
    "    \"id\": \"04\", \n",
    "    \"name\": \"sunil\", \n",
    "    \"department\": \"HR\"\n",
    "    } \n",
    "\n",
    "    cipher.save_dict_encrypt(\"json_enc.txt\", dictionary, 'my secret password')\n",
    "\n",
    "    dict_my = cipher.load_dict_encrypt(\"json_enc.txt\", 'my secret password')\n",
    "\n",
    "    dict_my = cipher.load_json_encrypt(\"json_enc.txt\", 'my secret password')\n",
    "\n",
    "    print(dict_my)\n",
    "   \n"
   ]
  }
 ],
 "metadata": {
  "kernelspec": {
   "display_name": "base",
   "language": "python",
   "name": "python3"
  },
  "language_info": {
   "codemirror_mode": {
    "name": "ipython",
    "version": 3
   },
   "file_extension": ".py",
   "mimetype": "text/x-python",
   "name": "python",
   "nbconvert_exporter": "python",
   "pygments_lexer": "ipython3",
   "version": "3.9.15"
  },
  "orig_nbformat": 4
 },
 "nbformat": 4,
 "nbformat_minor": 2
}
