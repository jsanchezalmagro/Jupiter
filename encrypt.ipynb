{
 "cells": [
  {
   "cell_type": "code",
   "execution_count": 2,
   "metadata": {},
   "outputs": [
    {
     "name": "stdout",
     "output_type": "stream",
     "text": [
      "{\n",
      "    \"id\": \"04\",\n",
      "    \"name\": \"sunil\",\n",
      "    \"department\": \"HR\"\n",
      "}\n"
     ]
    }
   ],
   "source": [
    "\n",
    "import json \n",
    "      \n",
    "# Data to be written \n",
    "dictionary ={ \n",
    "  \"id\": \"04\", \n",
    "  \"name\": \"sunil\", \n",
    "  \"department\": \"HR\"\n",
    "} \n",
    "      \n",
    "# Serializing json  \n",
    "json_object = json.dumps(dictionary, indent = 4) \n",
    "print(json_object)"
   ]
  },
  {
   "cell_type": "code",
   "execution_count": 8,
   "metadata": {},
   "outputs": [
    {
     "name": "stdout",
     "output_type": "stream",
     "text": [
      "{\n",
      "    \"id\": \"04\",\n",
      "    \"name\": \"sunil\",\n",
      "    \"department\": \"HR\"\n",
      "}\n"
     ]
    }
   ],
   "source": [
    "from cryptography.fernet import Fernet\n",
    "\n",
    "key1 =b'0123456789012345678901234567890123456789012='\n",
    "key =b'aaaaaaaaaassssssssssddddddddddffffffffff000='\n",
    "\n",
    "def save_encrypt (key, msg, filename):\n",
    "    \"\"\"Encrypt string and save to file \n",
    "\n",
    "    Args:\n",
    "        key (bytearray): key with 44 data\n",
    "        msg (string): msg  to encriptar\n",
    "        filename (string): file name \n",
    "    \"\"\"\n",
    "    # create class encrypt\n",
    "    code = Fernet(key)\n",
    "    # change \n",
    "    msg = code.encrypt(bytes(msg, 'utf-8'))\n",
    "    # write to file\n",
    "    with open(filename, \"wb\") as file:\n",
    "        # Write bytes to file\n",
    "        file.write(msg)\n",
    "    \n",
    "\n",
    "def load_encrypt(key, filename):\n",
    "    \"\"\"Read form file and dencrypt and convert to string\n",
    "\n",
    "    Args:\n",
    "        key (bytearray): _key with 44 data\n",
    "        filename (string): file name \n",
    "    \"\"\"\n",
    "     # create class encrypt\n",
    "    code = Fernet(key)\n",
    "    # read from file\n",
    "    with open(\"my_file.txt\", \"rb\") as file:\n",
    "        # Write bytes to file\n",
    "        msg = file.read()\n",
    "        msg= code.decrypt(msg)\n",
    "        return msg.decode(\"utf-8\")\n",
    "\n",
    "save_encrypt(key, json_object, \"my_file.txt\")\n",
    "print(load_encrypt(key, \"my_file.txt\"))"
   ]
  },
  {
   "cell_type": "code",
   "execution_count": 17,
   "metadata": {},
   "outputs": [
    {
     "name": "stdout",
     "output_type": "stream",
     "text": [
      "AES encryption key: b'ca432eef6df01412aaee10ffb7edf1bb624531ec8d8e0f34b39b8d404e40130b'\n",
      "105380032382751586950568522916556202651845347884303947277058572395368414406206\n",
      "Encrypted: b'5db7f3af3e241862dedd4c92effde9c5a21ea5'\n"
     ]
    }
   ],
   "source": [
    "import pyaes, pbkdf2, binascii, os, secrets\n",
    "\n",
    "# Derive a 256-bit AES encryption key from the password\n",
    "password = \"H3ls1nk1\"\n",
    "passwordSalt = os.urandom(16)\n",
    "key = pbkdf2.PBKDF2(password, passwordSalt).read(32)\n",
    "print('AES encryption key:', binascii.hexlify(key))\n",
    "\n",
    "iv = secrets.randbits(256)\n",
    "print(iv)\n",
    "plaintext = \"Text for encryption\"\n",
    "aes = pyaes.AESModeOfOperationCTR(key, pyaes.Counter(iv))\n",
    "ciphertext = aes.encrypt(plaintext)\n",
    "print('Encrypted:', binascii.hexlify(ciphertext))"
   ]
  },
  {
   "cell_type": "code",
   "execution_count": 39,
   "metadata": {},
   "outputs": [
    {
     "name": "stdout",
     "output_type": "stream",
     "text": [
      "(b'\\xb9\\xf5\\x97?\\x1al\\x84\\xe0EpY\\x06\"1`+T\\xc4\\xdd\\xa0CW\\xa61n\\x81\\xe1\\xd8\\xfe\\xc1\\x87\\xb7V\\xc9r\\xa1\\x94\\x04]X\\x0e\\xd4\\xa1cI', b'1K\\x868\\x08n\\r+\\xc5`x\\xfau\\x94h\\xe4', b'\\xf6h\\x9c\\x01\\xcbi3d\\xfeSJ\\x8f\\x89\\xfe#\\xa9')\n",
      "decryptedMsg =  {Message for AES-256-GCM + Scrypt encryption}\n"
     ]
    }
   ],
   "source": [
    "from Crypto.Cipher import AES\n",
    "import binascii, os\n",
    "\n",
    "def encrypt_AES_GCM(msg, secretKey):\n",
    "    msg = bytes(msg, 'utf-8')\n",
    "    aesCipher = AES.new(secretKey, AES.MODE_GCM)\n",
    "    ciphertext, authTag = aesCipher.encrypt_and_digest(msg)\n",
    "    return (ciphertext, aesCipher.nonce, authTag)\n",
    "\n",
    "def decrypt_AES_GCM(encryptedMsg, secretKey):\n",
    "    (ciphertext, nonce, authTag) = encryptedMsg\n",
    "    aesCipher = AES.new(secretKey, AES.MODE_GCM, nonce)\n",
    "    plaintext = aesCipher.decrypt_and_verify(ciphertext, authTag)\n",
    "    return plaintext.decode(\"utf-8\")\n",
    "\n",
    "password = \"H3ls1nk1\"\n",
    "passwordSalt = \"1234567890123456\"\n",
    "secretKey = pbkdf2.PBKDF2(password, passwordSalt).read(32)\n",
    "\n",
    "msg = '{Message for AES-256-GCM + Scrypt encryption}'\n",
    "encryptedMsg = encrypt_AES_GCM(msg, secretKey)\n",
    "\n",
    "decryptedMsg = decrypt_AES_GCM(encryptedMsg, secretKey)\n",
    "print(\"decryptedMsg = \", decryptedMsg)"
   ]
  }
 ],
 "metadata": {
  "kernelspec": {
   "display_name": "base",
   "language": "python",
   "name": "python3"
  },
  "language_info": {
   "codemirror_mode": {
    "name": "ipython",
    "version": 3
   },
   "file_extension": ".py",
   "mimetype": "text/x-python",
   "name": "python",
   "nbconvert_exporter": "python",
   "pygments_lexer": "ipython3",
   "version": "3.9.15"
  },
  "orig_nbformat": 4
 },
 "nbformat": 4,
 "nbformat_minor": 2
}
