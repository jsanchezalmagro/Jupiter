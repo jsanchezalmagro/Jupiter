{
 "cells": [
  {
   "cell_type": "code",
   "execution_count": 1,
   "metadata": {},
   "outputs": [
    {
     "name": "stdout",
     "output_type": "stream",
     "text": [
      "{\n",
      "    \"id\": \"04\",\n",
      "    \"name\": \"sunil\",\n",
      "    \"department\": \"HR\"\n",
      "}\n"
     ]
    }
   ],
   "source": [
    "\n",
    "import json \n",
    "      \n",
    "# Data to be written \n",
    "dictionary ={ \n",
    "  \"id\": \"04\", \n",
    "  \"name\": \"sunil\", \n",
    "  \"department\": \"HR\"\n",
    "} \n",
    "      \n",
    "# Serializing json  \n",
    "json_object = json.dumps(dictionary, indent = 4) \n",
    "print(json_object)"
   ]
  },
  {
   "cell_type": "code",
   "execution_count": 39,
   "metadata": {},
   "outputs": [
    {
     "name": "stdout",
     "output_type": "stream",
     "text": [
      "{\n",
      "    \"id\": \"04\",\n",
      "    \"name\": \"sunil\",\n",
      "    \"department\": \"HR\"\n",
      "}\n"
     ]
    }
   ],
   "source": [
    "from cryptography.fernet import Fernet\n",
    "\n",
    "key =b'0123456789012345678901234567890123456789012='\n",
    "\n",
    "\n",
    "def save_encrypt (key, msg, filename):\n",
    "    \"\"\"Encrypt string and save to file \n",
    "\n",
    "    Args:\n",
    "        key (bytearray): key with 44 data\n",
    "        msg (string): msg  to encriptar\n",
    "        filename (string): file name \n",
    "    \"\"\"\n",
    "    # create class encrypt\n",
    "    code = Fernet(key)\n",
    "    # change \n",
    "    msg = code.encrypt(bytes(msg, 'utf-8'))\n",
    "    # write to file\n",
    "    with open(filename, \"wb\") as file:\n",
    "        # Write bytes to file\n",
    "        file.write(msg)\n",
    "    \n",
    "\n",
    "def load_encrypt(key, filename):\n",
    "    \"\"\"Read form file and dencrypt and convert to string\n",
    "\n",
    "    Args:\n",
    "        key (bytearray): _key with 44 data\n",
    "        filename (string): file name \n",
    "    \"\"\"\n",
    "     # create class encrypt\n",
    "    code = Fernet(key)\n",
    "    # read from file\n",
    "    with open(\"my_file.txt\", \"rb\") as file:\n",
    "        # Write bytes to file\n",
    "        msg = file.read()\n",
    "        msg= code.decrypt(msg)\n",
    "        return msg.decode(\"utf-8\")\n",
    "\n",
    "save_encrypt(key, json_object, \"my_file.txt\")\n",
    "print(load_encrypt(key, \"my_file.txt\"))"
   ]
  }
 ],
 "metadata": {
  "kernelspec": {
   "display_name": "base",
   "language": "python",
   "name": "python3"
  },
  "language_info": {
   "codemirror_mode": {
    "name": "ipython",
    "version": 3
   },
   "file_extension": ".py",
   "mimetype": "text/x-python",
   "name": "python",
   "nbconvert_exporter": "python",
   "pygments_lexer": "ipython3",
   "version": "3.9.15"
  },
  "orig_nbformat": 4
 },
 "nbformat": 4,
 "nbformat_minor": 2
}
